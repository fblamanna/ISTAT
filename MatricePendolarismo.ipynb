{
 "cells": [
  {
   "cell_type": "code",
   "execution_count": 1,
   "metadata": {},
   "outputs": [],
   "source": [
    "# Import Packages\n",
    "import pandas as pd"
   ]
  },
  {
   "cell_type": "markdown",
   "metadata": {},
   "source": [
    "# Stima della quota TPL sulla mobilità pendolare"
   ]
  },
  {
   "cell_type": "code",
   "execution_count": 5,
   "metadata": {},
   "outputs": [],
   "source": [
    "# Leggi il file ISTAT da percorso\n",
    "# Percorso file (da editare)\n",
    "pc = 'matrix_pendo2011_10112014.txt'\n",
    "df = pd.read_csv(pc, sep='\\s+', header=None, low_memory=False)\n",
    "df.columns = ['Rec','Residenza','ProvRes','ComRes','Sesso','Motivo',\n",
    "              'LuogoStudioLavoro','ProvStudioLavoro','ComStudioLavoro',\n",
    "              'StatoEstero','Mezzo','OrarioUscita','Tempo','StimaN','NInd']"
   ]
  },
  {
   "cell_type": "code",
   "execution_count": 4,
   "metadata": {},
   "outputs": [],
   "source": [
    "# Seleziona record\n",
    "df = df[df['Rec']=='L']"
   ]
  },
  {
   "cell_type": "markdown",
   "metadata": {},
   "source": [
    "### Matrice totale della Provincia di Pordenone con Split Modale"
   ]
  },
  {
   "cell_type": "code",
   "execution_count": 5,
   "metadata": {},
   "outputs": [],
   "source": [
    "# Filtra Provincia Pordenone (93)\n",
    "pn = df[(df['ProvRes']==93)&(df['ProvStudioLavoro']==93)]"
   ]
  },
  {
   "cell_type": "code",
   "execution_count": 7,
   "metadata": {},
   "outputs": [
    {
     "data": {
      "text/plain": [
       "0.7101817403625151"
      ]
     },
     "execution_count": 7,
     "metadata": {},
     "output_type": "execute_result"
    }
   ],
   "source": [
    "# Quota Mezzo Privato\n",
    "pn[(pn['Mezzo']=='07')|(pn['Mezzo']=='08')|(pn['Mezzo']=='09')]['StimaN'].sum()/pn['StimaN'].sum()"
   ]
  },
  {
   "cell_type": "code",
   "execution_count": 8,
   "metadata": {},
   "outputs": [
    {
     "data": {
      "text/plain": [
       "0.10497100050293116"
      ]
     },
     "execution_count": 8,
     "metadata": {},
     "output_type": "execute_result"
    }
   ],
   "source": [
    "# Quota TPL (autobus, corriera, corriera aziendale) escluso Treno\n",
    "pn[(pn['Mezzo']=='04')|(pn['Mezzo']=='05')|(pn['Mezzo']=='06')]['StimaN'].sum()/pn['StimaN'].sum()"
   ]
  },
  {
   "cell_type": "markdown",
   "metadata": {},
   "source": [
    "## Pordenone - Maniago"
   ]
  },
  {
   "cell_type": "code",
   "execution_count": 9,
   "metadata": {},
   "outputs": [],
   "source": [
    "# Filtra Pordenone (33) -> Maniago (25)\n",
    "pn_mn = df[((df['ComRes']==33)&(df['ProvRes']==93))&((df['ComStudioLavoro']==25)&(df['ProvStudioLavoro']==93))]\n",
    "\n",
    "# Filtra Maniago -> Pordenone\n",
    "mn_pn = df[((df['ComRes']==25)&(df['ProvRes']==93))&((df['ComStudioLavoro']==33)&(df['ProvStudioLavoro']==93))]"
   ]
  },
  {
   "cell_type": "code",
   "execution_count": 10,
   "metadata": {},
   "outputs": [],
   "source": [
    "tot = pn_mn.append(mn_pn)"
   ]
  },
  {
   "cell_type": "markdown",
   "metadata": {},
   "source": [
    "Filtrando le coppie Pordenone - Maniago e ritorno, ed applicando un filtro sul mezzo, si ottiene che il Trasporto Privato ha una componente del 65% circa sulla mobilità tra i due comuni. Il TPL come autobus urbano, corriera e corriera aziendale ha una quota del 35% sulle coppie Pordenone - Maniago."
   ]
  },
  {
   "cell_type": "code",
   "execution_count": 11,
   "metadata": {},
   "outputs": [
    {
     "data": {
      "text/plain": [
       "0.648083796664019"
      ]
     },
     "execution_count": 11,
     "metadata": {},
     "output_type": "execute_result"
    }
   ],
   "source": [
    "# Quota Mezzo Privato\n",
    "tot[(tot['Mezzo']=='07')|(tot['Mezzo']=='08')|(tot['Mezzo']=='09')]['StimaN'].sum()/tot['StimaN'].sum()"
   ]
  },
  {
   "cell_type": "code",
   "execution_count": 12,
   "metadata": {},
   "outputs": [
    {
     "data": {
      "text/plain": [
       "0.34860669843791375"
      ]
     },
     "execution_count": 12,
     "metadata": {},
     "output_type": "execute_result"
    }
   ],
   "source": [
    "# Quota TPL (autobus, corriera, corriera aziendale)\n",
    "tot[(tot['Mezzo']=='04')|(tot['Mezzo']=='05')|(tot['Mezzo']=='06')]['StimaN'].sum()/tot['StimaN'].sum()"
   ]
  },
  {
   "cell_type": "markdown",
   "metadata": {},
   "source": [
    "## Spilimbergo - Pordenone"
   ]
  },
  {
   "cell_type": "code",
   "execution_count": 13,
   "metadata": {},
   "outputs": [],
   "source": [
    "# Filtra Pordenone (33) -> Spilimbergo (44)\n",
    "pn_sp = df[((df['ComRes']==33)&(df['ProvRes']==93))&((df['ComStudioLavoro']==44)&(df['ProvStudioLavoro']==93))]\n",
    "\n",
    "# Filtra Spilimbergo -> Pordenone\n",
    "sp_pn = df[((df['ComRes']==44)&(df['ProvRes']==93))&((df['ComStudioLavoro']==33)&(df['ProvStudioLavoro']==93))]\n",
    "\n",
    "# Totale\n",
    "tot = pn_sp.append(sp_pn)"
   ]
  },
  {
   "cell_type": "code",
   "execution_count": 14,
   "metadata": {},
   "outputs": [
    {
     "data": {
      "text/plain": [
       "0.6211685687451973"
      ]
     },
     "execution_count": 14,
     "metadata": {},
     "output_type": "execute_result"
    }
   ],
   "source": [
    "# Quota Mezzo Privato (auto conducente, passeggero, moto)\n",
    "tot[(tot['Mezzo']=='07')|(tot['Mezzo']=='08')|(tot['Mezzo']=='09')]['StimaN'].sum()/tot['StimaN'].sum()"
   ]
  },
  {
   "cell_type": "code",
   "execution_count": 15,
   "metadata": {},
   "outputs": [
    {
     "data": {
      "text/plain": [
       "0.3731394256766372"
      ]
     },
     "execution_count": 15,
     "metadata": {},
     "output_type": "execute_result"
    }
   ],
   "source": [
    "# Quota TPL (autobus, corriera, corriera aziendale)\n",
    "tot[(tot['Mezzo']=='04')|(tot['Mezzo']=='05')|(tot['Mezzo']=='06')]['StimaN'].sum()/tot['StimaN'].sum()"
   ]
  },
  {
   "cell_type": "markdown",
   "metadata": {},
   "source": [
    "## Aviano - Pordenone"
   ]
  },
  {
   "cell_type": "code",
   "execution_count": 16,
   "metadata": {},
   "outputs": [],
   "source": [
    "# Filtra Pordenone (33) -> Aviano (04)\n",
    "pn_av = df[((df['ComRes']==33)&(df['ProvRes']==93))&((df['ComStudioLavoro']==4)&(df['ProvStudioLavoro']==93))]\n",
    "\n",
    "# Filtra Aviano -> Pordenone\n",
    "av_pn = df[((df['ComRes']==4)&(df['ProvRes']==93))&((df['ComStudioLavoro']==33)&(df['ProvStudioLavoro']==93))]\n",
    "\n",
    "# Totale\n",
    "tot = pn_av.append(av_pn)"
   ]
  },
  {
   "cell_type": "code",
   "execution_count": 17,
   "metadata": {},
   "outputs": [
    {
     "data": {
      "text/plain": [
       "0.7324101194116323"
      ]
     },
     "execution_count": 17,
     "metadata": {},
     "output_type": "execute_result"
    }
   ],
   "source": [
    "# Quota Mezzo Privato (auto conducente, passeggero, moto)\n",
    "tot[(tot['Mezzo']=='07')|(tot['Mezzo']=='08')|(tot['Mezzo']=='09')]['StimaN'].sum()/tot['StimaN'].sum()"
   ]
  },
  {
   "cell_type": "code",
   "execution_count": 18,
   "metadata": {},
   "outputs": [
    {
     "data": {
      "text/plain": [
       "0.2635665776175609"
      ]
     },
     "execution_count": 18,
     "metadata": {},
     "output_type": "execute_result"
    }
   ],
   "source": [
    "# Quota TPL (autobus, corriera, corriera aziendale)\n",
    "tot[(tot['Mezzo']=='04')|(tot['Mezzo']=='05')|(tot['Mezzo']=='06')]['StimaN'].sum()/tot['StimaN'].sum()"
   ]
  }
 ],
 "metadata": {
  "kernelspec": {
   "display_name": "Python 3",
   "language": "python",
   "name": "python3"
  },
  "language_info": {
   "codemirror_mode": {
    "name": "ipython",
    "version": 3
   },
   "file_extension": ".py",
   "mimetype": "text/x-python",
   "name": "python",
   "nbconvert_exporter": "python",
   "pygments_lexer": "ipython3",
   "version": "3.7.3"
  }
 },
 "nbformat": 4,
 "nbformat_minor": 2
}
